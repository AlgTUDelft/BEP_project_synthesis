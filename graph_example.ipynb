{
 "cells": [
  {
   "cell_type": "code",
   "execution_count": 12,
   "metadata": {},
   "outputs": [
    {
     "name": "stdout",
     "output_type": "stream",
     "text": [
      "Metro:  (16, 194)\n",
      "Astar:  (0, 189)\n",
      "VLNS:  (21, 189)\n",
      "Gp:  (0, 189)\n",
      "Brute:  (63, 189)\n",
      "MCMS:  (29, 189)\n"
     ]
    },
    {
     "ename": "IndexError",
     "evalue": "list index out of range",
     "output_type": "error",
     "traceback": [
      "\u001b[0;31m---------------------------------------------------------------------------\u001b[0m",
      "\u001b[0;31mIndexError\u001b[0m                                Traceback (most recent call last)",
      "\u001b[0;32m/tmp/ipykernel_4009/1129394591.py\u001b[0m in \u001b[0;36m<module>\u001b[0;34m\u001b[0m\n\u001b[1;32m     28\u001b[0m \u001b[0mY\u001b[0m \u001b[0;34m=\u001b[0m \u001b[0mlist\u001b[0m\u001b[0;34m(\u001b[0m\u001b[0mzip\u001b[0m\u001b[0;34m(\u001b[0m\u001b[0;34m*\u001b[0m\u001b[0mdata\u001b[0m\u001b[0;34m)\u001b[0m\u001b[0;34m)\u001b[0m\u001b[0;34m[\u001b[0m\u001b[0;36m1\u001b[0m\u001b[0;34m]\u001b[0m\u001b[0;34m\u001b[0m\u001b[0;34m\u001b[0m\u001b[0m\n\u001b[1;32m     29\u001b[0m \u001b[0;34m\u001b[0m\u001b[0m\n\u001b[0;32m---> 30\u001b[0;31m \u001b[0mX2\u001b[0m \u001b[0;34m=\u001b[0m \u001b[0mlist\u001b[0m\u001b[0;34m(\u001b[0m\u001b[0mzip\u001b[0m\u001b[0;34m(\u001b[0m\u001b[0;34m*\u001b[0m\u001b[0mdata2\u001b[0m\u001b[0;34m)\u001b[0m\u001b[0;34m)\u001b[0m\u001b[0;34m[\u001b[0m\u001b[0;36m0\u001b[0m\u001b[0;34m]\u001b[0m\u001b[0;34m\u001b[0m\u001b[0;34m\u001b[0m\u001b[0m\n\u001b[0m\u001b[1;32m     31\u001b[0m \u001b[0mY2\u001b[0m \u001b[0;34m=\u001b[0m \u001b[0mlist\u001b[0m\u001b[0;34m(\u001b[0m\u001b[0mzip\u001b[0m\u001b[0;34m(\u001b[0m\u001b[0;34m*\u001b[0m\u001b[0mdata2\u001b[0m\u001b[0;34m)\u001b[0m\u001b[0;34m)\u001b[0m\u001b[0;34m[\u001b[0m\u001b[0;36m1\u001b[0m\u001b[0;34m]\u001b[0m\u001b[0;34m\u001b[0m\u001b[0;34m\u001b[0m\u001b[0m\n\u001b[1;32m     32\u001b[0m \u001b[0;34m\u001b[0m\u001b[0m\n",
      "\u001b[0;31mIndexError\u001b[0m: list index out of range"
     ]
    }
   ],
   "source": [
    "from results_processing import ResultParser\n",
    "import numpy as np\n",
    "import matplotlib as mpl\n",
    "import matplotlib.pyplot as plt\n",
    "\n",
    "\n",
    "results_name = \"results/pixel/metro\"\n",
    "results = ResultParser(results_name)\n",
    "results2 = ResultParser(\"results/pixel/Astar\")\n",
    "results3 = ResultParser(\"results/pixel/VLNS\")\n",
    "results4 = ResultParser(\"results/pixel/gp\")\n",
    "results5 = ResultParser(\"results/pixel/brute\")\n",
    "results6 = ResultParser(\"results/pixel/mcts\")\n",
    "\n",
    "\n",
    "data = results.filter_result_fields(['program_length', 'execution_time'], successful=True)\n",
    "data2 = results2.filter_result_fields(['program_length', 'execution_time'], successful=True)\n",
    "data3 = results3.filter_result_fields(['program_length', 'execution_time'], successful=True)\n",
    " \n",
    "print(\"Metro: \", results.get_solved_count())\n",
    "print(\"Astar: \", results2.get_solved_count())\n",
    "print(\"VLNS: \", results3.get_solved_count())\n",
    "print(\"Gp: \", results4.get_solved_count())\n",
    "print(\"Brute: \", results5.get_solved_count())\n",
    "print(\"MCMS: \", results6.get_solved_count())\n",
    "\n",
    "X = list(zip(*data))[0]\n",
    "Y = list(zip(*data))[1]\n",
    "\n",
    "X2 = list(zip(*data2))[0]\n",
    "Y2 = list(zip(*data2))[1]\n",
    "\n",
    "X3 = list(zip(*data3))[0]\n",
    "Y3 = list(zip(*data3))[1]\n",
    "\n",
    "fig, ax = plt.subplots()\n",
    "ax.scatter(X,Y)\n",
    "fig.show()\n",
    "\n",
    "fig2, ax2 = plt.subplots()\n",
    "ax2.scatter(X2,Y2)\n",
    "fig2.show()\n",
    "\n",
    "fig3, ax3 = plt.subplots()\n",
    "ax3.scatter(X3,Y3)\n",
    "fig3.show()\n",
    "\n"
   ]
  }
 ],
 "metadata": {
  "interpreter": {
   "hash": "f9f85f796d01129d0dd105a088854619f454435301f6ffec2fea96ecbd9be4ac"
  },
  "kernelspec": {
   "display_name": "Python 3.9.5 64-bit",
   "language": "python",
   "name": "python3"
  },
  "language_info": {
   "codemirror_mode": {
    "name": "ipython",
    "version": 3
   },
   "file_extension": ".py",
   "mimetype": "text/x-python",
   "name": "python",
   "nbconvert_exporter": "python",
   "pygments_lexer": "ipython3",
   "version": "3.9.2"
  },
  "orig_nbformat": 4
 },
 "nbformat": 4,
 "nbformat_minor": 2
}
